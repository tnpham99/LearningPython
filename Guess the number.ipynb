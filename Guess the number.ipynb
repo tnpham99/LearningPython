{
 "cells": [
  {
   "cell_type": "code",
   "execution_count": 5,
   "id": "f6d4a60e",
   "metadata": {},
   "outputs": [
    {
     "name": "stdout",
     "output_type": "stream",
     "text": [
      "A number is randomly generated, guess that number: 0\n",
      "Wrong! Guess again: 6\n",
      "Wrong! Guess again: 8\n",
      "Wrong! Guess again: 5\n",
      "Wrong! Guess again: 1\n",
      "Wrong! Guess again: 4\n",
      "Wrong! Guess again: 3\n",
      "Wrong! Guess again: 7\n",
      "Wrong! Guess again: 10\n",
      "Wrong! Guess again: 9\n",
      "Correct! It's 9.\n"
     ]
    }
   ],
   "source": [
    "import random\n",
    "\n",
    "num = random.randint(0,10)\n",
    "user = int(input(\"A number is randomly generated, guess that number: \"))\n",
    "while user != num:\n",
    "    user = int(input(\"Wrong! Guess again: \"))\n",
    "print(\"Correct! It's \" + str(num) + \".\")"
   ]
  },
  {
   "cell_type": "code",
   "execution_count": null,
   "id": "3473cc11",
   "metadata": {},
   "outputs": [],
   "source": []
  }
 ],
 "metadata": {
  "kernelspec": {
   "display_name": "Python 3 (ipykernel)",
   "language": "python",
   "name": "python3"
  },
  "language_info": {
   "codemirror_mode": {
    "name": "ipython",
    "version": 3
   },
   "file_extension": ".py",
   "mimetype": "text/x-python",
   "name": "python",
   "nbconvert_exporter": "python",
   "pygments_lexer": "ipython3",
   "version": "3.9.12"
  }
 },
 "nbformat": 4,
 "nbformat_minor": 5
}
